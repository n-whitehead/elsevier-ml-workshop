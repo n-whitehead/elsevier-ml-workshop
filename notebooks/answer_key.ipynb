{
 "cells": [
  {
   "cell_type": "markdown",
   "metadata": {},
   "source": [
    "# Answer Key\n",
    "\n",
    "This section provides solutions for Problems in the lessons. Refer to this notebook if you get stuck, but I encourage you to try to find a solution first! Remember, there are many ways to get the same result."
   ]
  },
  {
   "cell_type": "markdown",
   "metadata": {},
   "source": [
    "## Lesson 1: Introduction to Python & Jupyter Notebooks"
   ]
  },
  {
   "cell_type": "markdown",
   "metadata": {},
   "source": [
    "### Problem: Average of a List"
   ]
  },
  {
   "cell_type": "code",
   "execution_count": 1,
   "metadata": {},
   "outputs": [],
   "source": [
    "def summation(lst: list):\n",
    "    sum = 0\n",
    "    for value in lst:\n",
    "        sum += value\n",
    "    return sum"
   ]
  },
  {
   "cell_type": "code",
   "execution_count": 2,
   "metadata": {},
   "outputs": [],
   "source": [
    "def average(lst: list):\n",
    "    return summation(lst) / len(lst)"
   ]
  },
  {
   "cell_type": "markdown",
   "metadata": {},
   "source": [
    "## Lesson 2: Concept Learning & *k*-Nearest Neighbor"
   ]
  },
  {
   "cell_type": "markdown",
   "metadata": {},
   "source": [
    "### Problem: kNN"
   ]
  },
  {
   "cell_type": "code",
   "execution_count": 3,
   "metadata": {},
   "outputs": [],
   "source": [
    "def distance(a, b):\n",
    "    dist = 0\n",
    "    if len(a) != len(b):\n",
    "        raise Exception('Arrays are not the same dimension.')\n",
    "    else:\n",
    "        for i in range(len(a)):\n",
    "            dist += (a[i] - b[i])**2\n",
    "    # Notice: \"square root\" is an unnecessary operation for finding minimum distance in nearest neighbor!\n",
    "    #         the square root of a longer distance will always be larger than the square root of a shorter distance.\n",
    "    # return dist**(1/2)\n",
    "    return dist"
   ]
  },
  {
   "cell_type": "code",
   "execution_count": 4,
   "metadata": {},
   "outputs": [],
   "source": [
    "def knn(train, train_labels, test, test_labels, k):\n",
    "    matches = 0\n",
    "    # For each novel example in our test set...\n",
    "    for test_index in range(len(test)):\n",
    "        # Record know (distance, label) tuples into an array\n",
    "        distances = []\n",
    "        # Get the distance between this novel example and every other known example in the training set\n",
    "        for train_index in range(len(train)):\n",
    "            # Create tuples: (distance, label) to preserve label associated with a distance between our test and train points.\n",
    "            dist = (distance(test[test_index], train[train_index]), train_labels[train_index])\n",
    "            distances.append(dist)\n",
    "        # Sort the list of tuples. Sort on the first index value corresponding to distance. Return last k elements.\n",
    "        closest_neighbors = sorted(distances, key = lambda tup : tup[0])[:k]\n",
    "        # Get the most popular class label among the k nearest neighbors.\n",
    "        nearest_classes = sorted([tup[1] for tup in closest_neighbors])\n",
    "        # Given a set of class labels corresponding to the closest distances, we want to find what class label occurs most frequently\n",
    "        maxFreq = 0\n",
    "        best_label = nearest_classes[0] \n",
    "        for near_class in nearest_classes: \n",
    "            freq = nearest_classes.count(near_class) \n",
    "            if freq > maxFreq: \n",
    "                maxFreq = freq \n",
    "                best_label = near_class\n",
    "        actual_label = test_labels[test_index]\n",
    "        if(best_label == actual_label):\n",
    "            matches += 1\n",
    "    # Return the score. Score is defined by the number of matches divided by the length of the set tested.\n",
    "    return matches / len(test)"
   ]
  }
 ],
 "metadata": {
  "kernelspec": {
   "display_name": "Python 3",
   "language": "python",
   "name": "python3"
  },
  "language_info": {
   "codemirror_mode": {
    "name": "ipython",
    "version": 3
   },
   "file_extension": ".py",
   "mimetype": "text/x-python",
   "name": "python",
   "nbconvert_exporter": "python",
   "pygments_lexer": "ipython3",
   "version": "3.8.5"
  }
 },
 "nbformat": 4,
 "nbformat_minor": 4
}
