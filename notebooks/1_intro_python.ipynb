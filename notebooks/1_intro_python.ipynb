{
 "cells": [
  {
   "cell_type": "markdown",
   "metadata": {},
   "source": [
    "# Introduction to Python & Jupyter Notebooks\n",
    "\n",
    "This lesson is intended to help introduce you to programming with Python, and the Jupyter Notebook environment. For those with Python and Jupyter Notebook experience I recommended to skip this lesson, as it is aimed at an audience with little to no prior experience with these tools.\n",
    "\n",
    "If you have no experience using Python, refer to the official [Python 3 tutorial](https://docs.python.org/3/tutorial/) for reference.\n",
    "\n",
    "You will execute code within the code blocks of this \"scaffolding\". There is no need to update the Markdown unless an inaccuracy is found. If an error in the code or Markdown is found, then please submit a pull request to our [GitHub](https://github.com/n-whitehead/elsevier-machine-learning) - Thanks!"
   ]
  },
  {
   "cell_type": "markdown",
   "metadata": {},
   "source": [
    "## Jupyter Notebooks\n",
    "\n",
    "Since you are able to view this notebook, you should find yourself in an environment with suffix path ```/lab```. A Jupyter Lab is simply a Jupyter Notebook extension to make the notebook more modular, and pleasant to navigate. Note you can open multiple notebook tabs, or view file structure on the left hand side. You can enter the traditional Jupyter Notebook by replacing ```/lab``` with ```/tree```. For reference in these lessons, I will refer to files with extension ```.ipynb``` as notebooks.\n",
    "\n",
    "A notebook is organized into blocks called 'cells.'  Each cell can contain either code or markdown.  You can 'run' the cell by clicking the little forward-arrow symbol in the toolbar at the top of the page, or by pressing [Shift-Enter].  For a code cell, this will execute the Python code in that cell, and then display any result that code produces below.  For a markdown cell (like this one), it will transform the markdown text into a textbook-style text.  If you double click on a markdown cell, you can edit the raw text, and then 'run' it to re-compile the pretty $\\LaTeX$ version.  For more about the things you can do with markdown, check out this [cheat-sheet for markdown commands](https://medium.com/ibm-data-science-experience/markdown-for-jupyter-notebooks-cheatsheet-386c05aeebed)\n",
    "\n",
    "Code is executed within a notebook kernel (IPython) environment, and variables or functions can be referenceable by other cells depending on the order of execution."
   ]
  },
  {
   "cell_type": "markdown",
   "metadata": {},
   "source": [
    "## Python Fundamentals\n",
    "\n",
    "The following cells contain Python code. Since Python is an interpreted language, you can run individual statements and get results."
   ]
  },
  {
   "cell_type": "markdown",
   "metadata": {},
   "source": [
    "Executing the follwing cell should return '10'."
   ]
  },
  {
   "cell_type": "code",
   "execution_count": 1,
   "metadata": {},
   "outputs": [
    {
     "data": {
      "text/plain": [
       "10"
      ]
     },
     "execution_count": 1,
     "metadata": {},
     "output_type": "execute_result"
    }
   ],
   "source": [
    "5 + 5"
   ]
  },
  {
   "cell_type": "markdown",
   "metadata": {},
   "source": [
    "The previous cell ran a calculation, but the value isn't stored anywhere. If our goal extends simply displaying a result, we need to store it in a variable. Python variables are auto-typed, meaning you don't need to declare them with a typename the way you do in strongly typed languages like Java or C; if you assign an integer to a variable name, Python automatically creates an integer variable with that name.  Note that when you run the following cell, there's no output displayed, because assignment doesn't have an output."
   ]
  },
  {
   "cell_type": "code",
   "execution_count": 2,
   "metadata": {},
   "outputs": [],
   "source": [
    "number = 5 + 5"
   ]
  },
  {
   "cell_type": "markdown",
   "metadata": {},
   "source": [
    "We can extract the result of this variable via a print statement."
   ]
  },
  {
   "cell_type": "code",
   "execution_count": 3,
   "metadata": {},
   "outputs": [
    {
     "name": "stdout",
     "output_type": "stream",
     "text": [
      "10\n"
     ]
    }
   ],
   "source": [
    "print(number)"
   ]
  },
  {
   "cell_type": "markdown",
   "metadata": {},
   "source": [
    "Loops and conditionals in Python follow a different syntax than in Java, but work similarly. Note that we use a ``:`` to say we're starting the body of the statement, and then use indentation to indicate what code is 'inside' the loop or conditional.  When the indent goes back out, the loop is over.  Here's a simple example of a Python ``for`` loop:"
   ]
  },
  {
   "cell_type": "code",
   "execution_count": 4,
   "metadata": {},
   "outputs": [
    {
     "name": "stdout",
     "output_type": "stream",
     "text": [
      "0\n",
      "1\n",
      "2\n",
      "3\n",
      "4\n",
      "done\n"
     ]
    }
   ],
   "source": [
    "for i in range(0,5):\n",
    "    print(i)\n",
    "print(\"done\")\n",
    "\n",
    "# Java equivalent:\n",
    "# for (int i=0; i<3; i++) {\n",
    "#    System.out.println(i);\n",
    "# }\n",
    "# System.out.println(\"done\")"
   ]
  },
  {
   "cell_type": "markdown",
   "metadata": {},
   "source": [
    "Python lists (which are like arrays in other languages) also work by auto-typed assignment; the following cell creates different integer arrays:"
   ]
  },
  {
   "cell_type": "code",
   "execution_count": 5,
   "metadata": {},
   "outputs": [],
   "source": [
    "a = [1, 2, 3]\n",
    "b = [99, 45, 67, 21, 11, 5, 12, 33, 57]"
   ]
  },
  {
   "cell_type": "markdown",
   "metadata": {},
   "source": [
    "We can iterate through lists intuitively:"
   ]
  },
  {
   "cell_type": "code",
   "execution_count": 6,
   "metadata": {},
   "outputs": [
    {
     "name": "stdout",
     "output_type": "stream",
     "text": [
      "1\n",
      "2\n",
      "3\n"
     ]
    }
   ],
   "source": [
    "for x in a:\n",
    "    print(x)"
   ]
  },
  {
   "cell_type": "markdown",
   "metadata": {},
   "source": [
    "By default, Python does assignment by reference, so the following doesn't actually make a copy of all the values stored in *a*, instead it makes *lst* refer to the same array that *a* does."
   ]
  },
  {
   "cell_type": "code",
   "execution_count": 7,
   "metadata": {},
   "outputs": [],
   "source": [
    "lst = a"
   ]
  },
  {
   "cell_type": "markdown",
   "metadata": {},
   "source": [
    "Here's an example of using a loop and an if statement to find the minimum value in a list:"
   ]
  },
  {
   "cell_type": "code",
   "execution_count": 8,
   "metadata": {},
   "outputs": [
    {
     "name": "stdout",
     "output_type": "stream",
     "text": [
      "1\n"
     ]
    }
   ],
   "source": [
    "min = lst[0]\n",
    "for value in lst:\n",
    "    if value < min:\n",
    "        min = value\n",
    "print(min)"
   ]
  },
  {
   "cell_type": "markdown",
   "metadata": {},
   "source": [
    "Try changing the cell two above to make 'lst' refer to 'b' instead of 'a', and then re-run the cell to calculate the minimum value to see the difference.  Note that just changing the assignment doesn't actually do anything; you need to re-run the assignment cell in order for the modified code to actually do anything.\n",
    "\n",
    "It's also worth noting that when you save a Notebook, the cell outputs get saved, but you'll still need to re-run all the cells from the top of the file before things will work correctly.\n",
    "\n",
    "Functions/methods work similarly, using a colon and indentation with the keyword ``def``:"
   ]
  },
  {
   "cell_type": "code",
   "execution_count": 9,
   "metadata": {},
   "outputs": [],
   "source": [
    "def minimum(test_list):\n",
    "    min = test_list[0]\n",
    "    for value in test_list:\n",
    "        if value < min:\n",
    "            min = value\n",
    "    return min"
   ]
  },
  {
   "cell_type": "code",
   "execution_count": 10,
   "metadata": {},
   "outputs": [
    {
     "data": {
      "text/plain": [
       "1"
      ]
     },
     "execution_count": 10,
     "metadata": {},
     "output_type": "execute_result"
    }
   ],
   "source": [
    "minimum(lst)"
   ]
  },
  {
   "cell_type": "markdown",
   "metadata": {},
   "source": [
    "## Problem: Average of a List\n",
    "\n",
    "Create a function to find the sum of list 'b'. Next, use the sum function to create a new function to calculate the average of a list."
   ]
  },
  {
   "cell_type": "code",
   "execution_count": null,
   "metadata": {},
   "outputs": [],
   "source": [
    "def summation(lst: list):\n",
    "    #TODO: Implement a function to calculate the total of the values in lst"
   ]
  },
  {
   "cell_type": "code",
   "execution_count": null,
   "metadata": {},
   "outputs": [],
   "source": [
    "def average(lst: list):\n",
    "    #TODO: Implement a function to return the average of list 'b' using 'summation'"
   ]
  }
 ],
 "metadata": {
  "kernelspec": {
   "display_name": "Python 3",
   "language": "python",
   "name": "python3"
  },
  "language_info": {
   "codemirror_mode": {
    "name": "ipython",
    "version": 3
   },
   "file_extension": ".py",
   "mimetype": "text/x-python",
   "name": "python",
   "nbconvert_exporter": "python",
   "pygments_lexer": "ipython3",
   "version": "3.8.5"
  }
 },
 "nbformat": 4,
 "nbformat_minor": 4
}
